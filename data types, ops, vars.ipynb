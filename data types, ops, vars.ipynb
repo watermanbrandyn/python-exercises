{
 "cells": [
  {
   "cell_type": "markdown",
   "id": "8e49b084",
   "metadata": {},
   "source": [
    "99.9, float\n",
    "\"False\", string\n",
    "False, boolean\n",
    "'0', string\n",
    "0, int\n",
    "True, boolean\n",
    "'True', string\n",
    "[{}], list\n",
    "{'a': []}, dictionary\n",
    "\n",
    "Term or phrase typed into a search box: string\n",
    "User is logged in: boolean\n",
    "Discount amount to apply to a user's shopping cart: int (or float)\n",
    "whether or not a coupon code is valid: boolean\n",
    "email address typed into a registration form: string\n",
    "price of a product: float\n",
    "matrix: list\n",
    "email addresses collected from a registration form: list\n",
    "information about applicants to Codeup's data science program: dictionary"
   ]
  }
 ],
 "metadata": {
  "kernelspec": {
   "display_name": "Python 3.8.9 64-bit",
   "language": "python",
   "name": "python389jvsc74a57bd031f2aee4e71d21fbe5cf8b01ff0e069b9275f58929596ceb00d14d90e3e16cd6"
  },
  "language_info": {
   "codemirror_mode": {
    "name": "ipython",
    "version": 3
   },
   "file_extension": ".py",
   "mimetype": "text/x-python",
   "name": "python",
   "nbconvert_exporter": "python",
   "pygments_lexer": "ipython3",
   "version": "3.8.9"
  }
 },
 "nbformat": 4,
 "nbformat_minor": 5
}

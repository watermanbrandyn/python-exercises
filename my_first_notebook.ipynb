{
 "cells": [
  {
   "cell_type": "code",
   "execution_count": 1,
   "id": "9a25fc15",
   "metadata": {},
   "outputs": [
    {
     "name": "stdout",
     "output_type": "stream",
     "text": [
      "2\n"
     ]
    }
   ],
   "source": [
    "two = 1 + 1\n",
    "print(two)"
   ]
  },
  {
   "cell_type": "markdown",
   "id": "d0c2ce68",
   "metadata": {},
   "source": [
    "Shift + Enter, runs the current cell and then places you below. "
   ]
  },
  {
   "cell_type": "markdown",
   "id": "f8344c34",
   "metadata": {},
   "source": [
    "H, shows all shortcuts"
   ]
  },
  {
   "cell_type": "markdown",
   "id": "ecc372d1",
   "metadata": {},
   "source": [
    "Option + Enter, runs cell and inserts cell below. "
   ]
  },
  {
   "cell_type": "code",
   "execution_count": 4,
   "id": "4c5bc864",
   "metadata": {},
   "outputs": [
    {
     "name": "stdout",
     "output_type": "stream",
     "text": [
      "Hello, World!\n"
     ]
    }
   ],
   "source": [
    "greeting = \"Hello\"\n",
    "greeting += \", World!\"\n",
    "print(greeting)"
   ]
  },
  {
   "cell_type": "code",
   "execution_count": 6,
   "id": "facf78e8",
   "metadata": {},
   "outputs": [
    {
     "data": {
      "text/plain": [
       "int"
      ]
     },
     "execution_count": 6,
     "metadata": {},
     "output_type": "execute_result"
    }
   ],
   "source": [
    "test = 1234\n",
    "type(test)"
   ]
  },
  {
   "cell_type": "code",
   "execution_count": 9,
   "id": "f5302459",
   "metadata": {},
   "outputs": [
    {
     "name": "stdout",
     "output_type": "stream",
     "text": [
      "1234\n"
     ]
    },
    {
     "data": {
      "text/plain": [
       "str"
      ]
     },
     "execution_count": 9,
     "metadata": {},
     "output_type": "execute_result"
    }
   ],
   "source": [
    "test = str(test)\n",
    "print(test)\n",
    "type(test)"
   ]
  },
  {
   "cell_type": "code",
   "execution_count": null,
   "id": "7ee87790",
   "metadata": {},
   "outputs": [],
   "source": []
  }
 ],
 "metadata": {
  "kernelspec": {
   "display_name": "Python 3 (ipykernel)",
   "language": "python",
   "name": "python3"
  },
  "language_info": {
   "codemirror_mode": {
    "name": "ipython",
    "version": 3
   },
   "file_extension": ".py",
   "mimetype": "text/x-python",
   "name": "python",
   "nbconvert_exporter": "python",
   "pygments_lexer": "ipython3",
   "version": "3.9.7"
  }
 },
 "nbformat": 4,
 "nbformat_minor": 5
}
